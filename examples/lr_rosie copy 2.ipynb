{
 "cells": [
  {
   "cell_type": "code",
   "execution_count": 1,
   "id": "6343a332",
   "metadata": {},
   "outputs": [],
   "source": [
    "import os, sys\n",
    "\n",
    "sys.path.append(os.path.abspath(os.path.join(os.getcwd(), os.pardir)))\n",
    "import numpy as np\n",
    "import pandas as pd\n",
    "from ppi_py.datasets import load_dataset\n",
    "from ppi_py import ppi_ols_ci, classical_ols_ci,ppi_ols_pointestimate\n",
    "from statsmodels.regression.linear_model import OLS\n",
    "from scipy.optimize import brentq  \n",
    "from sklearn.linear_model import Ridge\n",
    "from tqdm import tqdm\n",
    "from utils import *"
   ]
  },
  {
   "cell_type": "code",
   "execution_count": 139,
   "id": "28a3a2a5",
   "metadata": {},
   "outputs": [],
   "source": [
    "def generate_data(\n",
    "    n_total: int,\n",
    "    p: int,\n",
    "    N_model: int,\n",
    "    std: float = 1.0,\n",
    "    theta: np.ndarray = None,\n",
    "    random_state: int = None\n",
    "):\n",
    "    rng = np.random.RandomState(random_state)\n",
    "\n",
    "    # 1) Generate theta if not provided\n",
    "    if theta is None:\n",
    "        theta = rng.uniform(low=-1.0, high=1.0, size=p) # * 100\n",
    "        # theta = theta / np.linalg.norm(theta)\n",
    "    \n",
    "    # 2) Generate total data\n",
    "    X_total = rng.normal(size=(n_total, p))\n",
    "    noise_eval = std * rng.normal(size=n_total)\n",
    "\n",
    "    Y_total = X_total @ theta + noise_eval\n",
    "\n",
    "    # 3) Generate predictions\n",
    "    X_model = rng.normal(size=(N_model, p))\n",
    "    noise_model = std * rng.normal(size=N_model)\n",
    "    Y_model = X_model @ theta + noise_model\n",
    "\n",
    "    model = OLS(Y_model, X_model).fit()\n",
    "    Y_hat = model.predict(X_total)\n",
    "\n",
    "    return X_total, Y_total, Y_hat, theta #, X_total @ theta"
   ]
  },
  {
   "cell_type": "code",
   "execution_count": 140,
   "id": "11ec0ccb",
   "metadata": {},
   "outputs": [],
   "source": [
    "# Set global parameters\n",
    "ratios = [0.1, 0.2, 0.5, 0.8, 1.0, 2.0, 5.0]\n",
    "std_list =  [0.1, 1.0, 5.0, 10.0]\n",
    "ns = [10, 20, 50, 100] \n",
    "ps = [20, 50, 100, 200]\n",
    "rng = np.random.RandomState()\n",
    "\n",
    "num_trials = 10\n",
    "alpha = 0.05"
   ]
  },
  {
   "cell_type": "code",
   "execution_count": 72,
   "id": "6cd4bbc1",
   "metadata": {},
   "outputs": [],
   "source": [
    "def _ols(X, Y, return_se=False):\n",
    "    \"\"\"OLS using pseudoinverse with HC0 robust standard errors.\"\"\"\n",
    "    n, p = X.shape\n",
    "    theta = np.linalg.pinv(X) @ Y\n",
    "    return theta"
   ]
  },
  {
   "cell_type": "code",
   "execution_count": 115,
   "id": "e93c9036",
   "metadata": {},
   "outputs": [],
   "source": [
    "def ols_svd(X, Y, rcond=1e-10):\n",
    "    \"\"\"OLS estimate using SVD-based pseudoinverse (safe for any n, p).\"\"\"\n",
    "    U, s, Vt = np.linalg.svd(X, full_matrices=False)\n",
    "    print(f\"min singular value: {s[-1]:.2e}, condition number: {s[0]/s[-1]:.2e}\")\n",
    "\n",
    "    s_inv = np.where(s > rcond, 1.0 / s, 0.0)  # Drop small singular values\n",
    "    X_pinv = Vt.T @ np.diag(s_inv) @ U.T\n",
    "    theta = X_pinv @ Y\n",
    "    return theta"
   ]
  },
  {
   "cell_type": "code",
   "execution_count": 86,
   "id": "99f46776",
   "metadata": {},
   "outputs": [],
   "source": [
    "from sklearn.linear_model import LinearRegression\n",
    "\n",
    "def ols_sklearn(X, Y):\n",
    "    model = LinearRegression(fit_intercept=False)\n",
    "    model.fit(X, Y)\n",
    "    return model.coef_"
   ]
  },
  {
   "cell_type": "code",
   "execution_count": 128,
   "id": "bce89ca8",
   "metadata": {},
   "outputs": [],
   "source": [
    "def ols_truncated_svd(X, Y, tol=1e-6):\n",
    "    \"\"\"OLS with truncated SVD — discard unstable directions.\"\"\"\n",
    "    U, s, Vt = np.linalg.svd(X, full_matrices=False)\n",
    "    s_inv = np.array([1/si if si > tol else 0.0 for si in s])  # zero-out unstable modes\n",
    "    theta = Vt.T @ (s_inv * (U.T @ Y))\n",
    "    return theta"
   ]
  },
  {
   "cell_type": "code",
   "execution_count": 160,
   "id": "d28fd008",
   "metadata": {},
   "outputs": [
    {
     "data": {
      "text/plain": [
       "array([-0.97925169,  0.00374918, -0.00845341, -0.73234094, -0.71577783,\n",
       "       -0.56288265, -0.16298364, -0.50379766, -0.8318807 , -0.30900272])"
      ]
     },
     "execution_count": 160,
     "metadata": {},
     "output_type": "execute_result"
    }
   ],
   "source": [
    "n_total = 5000\n",
    "n = p = 10\n",
    "\n",
    "X_total, Y_total, Y_hat, theta = generate_data(\n",
    "    n_total=n_total,\n",
    "    p=p,\n",
    "    N_model=1000,\n",
    "    std=1.0,\n",
    "    random_state=9\n",
    ")\n",
    "theta"
   ]
  },
  {
   "cell_type": "code",
   "execution_count": 175,
   "id": "f9d0ae9e",
   "metadata": {},
   "outputs": [
    {
     "name": "stdout",
     "output_type": "stream",
     "text": [
      "[ -5.48747686 -22.35407723  -3.56084267  -6.93856331   9.60865023\n",
      "  -8.92238234 -13.05724445  -5.17172935  10.21825904   0.59419668]\n"
     ]
    }
   ],
   "source": [
    "n = 10\n",
    "\n",
    "for i in range(1):\n",
    "    idx = np.random.permutation(n_total)\n",
    "    X_labeled, X_unlabeled = X_total[idx[:n]], X_total[idx[n:]]\n",
    "    Y_labeled, Y_unlabeled = Y_total[idx[:n]], Y_total[idx[n:]]\n",
    "    print(ols_truncated_svd(X_labeled, Y_labeled))"
   ]
  },
  {
   "cell_type": "code",
   "execution_count": null,
   "id": "0140674a",
   "metadata": {},
   "outputs": [
    {
     "name": "stdout",
     "output_type": "stream",
     "text": [
      "2.0237022948032246\n",
      "1.8236296662717526\n",
      "2.2993872137902343\n",
      "1.6413790108947195\n",
      "2.2454583616470303\n",
      "2.0661108940778434\n",
      "1.852647817101187\n",
      "1.9078757283244567\n",
      "1.8502222487957936\n",
      "2.026491048325313\n"
     ]
    }
   ],
   "source": [
    "n = 20\n",
    "\n",
    "for i in range(10):\n",
    "    idx = np.random.permutation(n_total)\n",
    "    X_labeled, X_unlabeled = X_total[idx[:n]], X_total[idx[n:]]\n",
    "    Y_labeled, Y_unlabeled = Y_total[idx[:n]], Y_total[idx[n:]]\n",
    "    print(np.linalg.norm(ols_truncated_svd(X_labeled, Y_labeled)))"
   ]
  }
 ],
 "metadata": {
  "kernelspec": {
   "display_name": "base",
   "language": "python",
   "name": "python3"
  },
  "language_info": {
   "codemirror_mode": {
    "name": "ipython",
    "version": 3
   },
   "file_extension": ".py",
   "mimetype": "text/x-python",
   "name": "python",
   "nbconvert_exporter": "python",
   "pygments_lexer": "ipython3",
   "version": "3.11.5"
  }
 },
 "nbformat": 4,
 "nbformat_minor": 5
}
